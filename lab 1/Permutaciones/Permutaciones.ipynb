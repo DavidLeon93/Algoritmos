{
 "cells": [
  {
   "cell_type": "markdown",
   "metadata": {},
   "source": [
    "# Permutaciones"
   ]
  },
  {
   "cell_type": "markdown",
   "metadata": {},
   "source": [
    "Se importa la librería que usaremos"
   ]
  },
  {
   "cell_type": "code",
   "execution_count": null,
   "metadata": {
    "collapsed": true
   },
   "outputs": [],
   "source": [
    "from itertools import permutations"
   ]
  },
  {
   "cell_type": "markdown",
   "metadata": {},
   "source": [
    "Definimos la función de ordenamiento por Inserción"
   ]
  },
  {
   "cell_type": "code",
   "execution_count": null,
   "metadata": {
    "collapsed": true
   },
   "outputs": [],
   "source": [
    "def insertionsort(a):\n",
    "  j = 1\n",
    "  while j < len(a):\n",
    "    x = a[j]\n",
    "    i = j - 1 \n",
    "    while i >= 0 and a[i] > x:\n",
    "      a[i+1] = a[i]\n",
    "      i = i - 1\n",
    "    a[i+1] = x\n",
    "    j = j + 1\n",
    "  return a"
   ]
  },
  {
   "cell_type": "markdown",
   "metadata": {},
   "source": [
    "Revisamos para que tamaño del arreglo a se pueden guardar las permutaciones en memoria"
   ]
  },
  {
   "cell_type": "code",
   "execution_count": null,
   "metadata": {
    "collapsed": true
   },
   "outputs": [],
   "source": [
    "a = []\n",
    "i = 0\n",
    "x = []\n",
    "while(i <= 11):\n",
    "  a.append(i)\n",
    "  x = list(permutations(a))\n",
    "  z = 0\n",
    "  while(z <= len(x)- 1):\n",
    "    insertionsort(list(x[z]))\n",
    "    z += 1\n",
    "  i += 1"
   ]
  },
  {
   "cell_type": "markdown",
   "metadata": {},
   "source": [
    "Se observa que para un arreglo de tamaño 11 el código muere."
   ]
  }
 ],
 "metadata": {
  "kernelspec": {
   "display_name": "Python 2",
   "language": "python",
   "name": "python2"
  },
  "language_info": {
   "codemirror_mode": {
    "name": "ipython",
    "version": 2
   },
   "file_extension": ".py",
   "mimetype": "text/x-python",
   "name": "python",
   "nbconvert_exporter": "python",
   "pygments_lexer": "ipython2",
   "version": "2.7.12"
  }
 },
 "nbformat": 4,
 "nbformat_minor": 2
}