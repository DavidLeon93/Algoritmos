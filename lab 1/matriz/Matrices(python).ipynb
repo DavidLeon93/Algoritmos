{
 "cells": [
  {
   "cell_type": "markdown",
   "metadata": {},
   "source": [
    "# Multiplicación de matrices"
   ]
  },
  {
   "cell_type": "markdown",
   "metadata": {},
   "source": [
    "Importamos las librerías que usaremos"
   ]
  },
  {
   "cell_type": "code",
   "execution_count": 1,
   "metadata": {},
   "outputs": [],
   "source": [
    "import random\n",
    "import time"
   ]
  },
  {
   "cell_type": "markdown",
   "metadata": {},
   "source": [
    "Solicitamos el tamaño n de las matrices "
   ]
  },
  {
   "cell_type": "code",
   "execution_count": null,
   "metadata": {},
   "outputs": [],
   "source": [
    "n = int(input(\"tamaño de las matrices: \"))"
   ]
  },
  {
   "cell_type": "markdown",
   "metadata": {},
   "source": [
    "Creamos la primera matriz cuadrada de tamaño n y la llenamos de 1's"
   ]
  },
  {
   "cell_type": "code",
   "execution_count": null,
   "metadata": {},
   "outputs": [],
   "source": [
    "matriz = []\n",
    "for i in range(n):\n",
    "    matriz.append([])\n",
    "    for j in range(n):\n",
    "      matriz[i].append(1)"
   ]
  },
  {
   "cell_type": "markdown",
   "metadata": {},
   "source": [
    "Creamos la segunda matriz cuadrada de tamaño n y la llenamos de 2's"
   ]
  },
  {
   "cell_type": "code",
   "execution_count": null,
   "metadata": {},
   "outputs": [],
   "source": [
    "matriz2 = []\n",
    "for i in range(n):\n",
    "    matriz2.append([])\n",
    "    for j in range(n):\n",
    "      matriz2[i].append(2)"
   ]
  },
  {
   "cell_type": "markdown",
   "metadata": {},
   "source": [
    "Creamos la matriz final que almacenará el resultado de la multiplicación de la matriz1 con la matriz2"
   ]
  },
  {
   "cell_type": "code",
   "execution_count": null,
   "metadata": {},
   "outputs": [],
   "source": [
    "matrizf = []\n",
    "for i in range(n):\n",
    "    matrizf.append([])\n",
    "    for j in range(n):\n",
    "      matrizf[i].append(0)"
   ]
  },
  {
   "cell_type": "markdown",
   "metadata": {},
   "source": [
    "Se calcula el tiempo de las multiplicaciones y las sumas realizadas (instrucción por instrucción)"
   ]
  },
  {
   "cell_type": "code",
   "execution_count": null,
   "metadata": {},
   "outputs": [],
   "source": [
    "tiempo_inicial = time.time()\n",
    "for i in range(0,n):\n",
    "    for j in range(0,n):\n",
    "      for k in range(0,n):\n",
    "        matrizf[i][j] += matriz[i][k]*matriz2[k][j]\n",
    "print(\" El tiempo de ejecución de %s \" % (time.time() - tiempo_inicial))"
   ]
  }
 ],
 "metadata": {
  "kernelspec": {
   "display_name": "Python 3",
   "language": "python",
   "name": "python3"
  },
  "language_info": {
   "codemirror_mode": {
    "name": "ipython",
    "version": 3
   },
   "file_extension": ".py",
   "mimetype": "text/x-python",
   "name": "python",
   "nbconvert_exporter": "python",
   "pygments_lexer": "ipython3",
   "version": "3.6.3"
  }
 },
 "nbformat": 4,
 "nbformat_minor": 2
}
